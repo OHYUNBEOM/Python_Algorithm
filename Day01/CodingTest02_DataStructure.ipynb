{
 "cells": [
  {
   "attachments": {},
   "cell_type": "markdown",
   "metadata": {},
   "source": [
    "## 자료구조\n",
    "### 백준 11720 - 숫자의 합\n"
   ]
  },
  {
   "cell_type": "code",
   "execution_count": null,
   "metadata": {},
   "outputs": [],
   "source": [
    "n=input()\n",
    "nums=list(input())\n",
    "sum=0\n",
    "\n",
    "for i in nums:\n",
    "    sum+=int(i)\n",
    "\n",
    "print(sum)"
   ]
  },
  {
   "cell_type": "code",
   "execution_count": null,
   "metadata": {},
   "outputs": [],
   "source": [
    "# del sum\n",
    "# print(sum(map(int,input())))\n",
    "n=map(int,input())\n",
    "print(n)"
   ]
  },
  {
   "attachments": {},
   "cell_type": "markdown",
   "metadata": {},
   "source": [
    "### 백준 1546 - 평균 구하기\n"
   ]
  },
  {
   "cell_type": "code",
   "execution_count": 36,
   "metadata": {},
   "outputs": [
    {
     "ename": "TypeError",
     "evalue": "'int' object is not callable",
     "output_type": "error",
     "traceback": [
      "\u001b[1;31m---------------------------------------------------------------------------\u001b[0m",
      "\u001b[1;31mTypeError\u001b[0m                                 Traceback (most recent call last)",
      "Cell \u001b[1;32mIn[36], line 4\u001b[0m\n\u001b[0;32m      2\u001b[0m mylist\u001b[39m=\u001b[39m\u001b[39mlist\u001b[39m(\u001b[39mmap\u001b[39m(\u001b[39mint\u001b[39m,\u001b[39minput\u001b[39m()\u001b[39m.\u001b[39msplit()))\n\u001b[0;32m      3\u001b[0m mymax\u001b[39m=\u001b[39m\u001b[39mmax\u001b[39m(mylist)\n\u001b[1;32m----> 4\u001b[0m \u001b[39msum\u001b[39m\u001b[39m=\u001b[39m\u001b[39msum\u001b[39;49m(mylist)\n\u001b[0;32m      5\u001b[0m \u001b[39mprint\u001b[39m(\u001b[39msum\u001b[39m\u001b[39m*\u001b[39m\u001b[39m100\u001b[39m\u001b[39m/\u001b[39mmymax\u001b[39m/\u001b[39m\u001b[39mint\u001b[39m(n))\n",
      "\u001b[1;31mTypeError\u001b[0m: 'int' object is not callable"
     ]
    }
   ],
   "source": [
    "n=input()\n",
    "mylist=list(map(int,input().split()))\n",
    "mymax=max(mylist)\n",
    "sum=sum(mylist)\n",
    "print(sum*100/mymax/int(n))"
   ]
  }
 ],
 "metadata": {
  "kernelspec": {
   "display_name": "Python 3",
   "language": "python",
   "name": "python3"
  },
  "language_info": {
   "codemirror_mode": {
    "name": "ipython",
    "version": 3
   },
   "file_extension": ".py",
   "mimetype": "text/x-python",
   "name": "python",
   "nbconvert_exporter": "python",
   "pygments_lexer": "ipython3",
   "version": "3.11.1"
  },
  "orig_nbformat": 4,
  "vscode": {
   "interpreter": {
    "hash": "5801587a06112e6250870f7b732ec27b04ad3aa34afbae47b4a821f67eef7a1b"
   }
  }
 },
 "nbformat": 4,
 "nbformat_minor": 2
}
