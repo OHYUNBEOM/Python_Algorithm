{
 "cells": [
  {
   "cell_type": "code",
   "execution_count": null,
   "metadata": {},
   "outputs": [],
   "source": [
    "#백준 3003번\n",
    "original=[1,1,2,2,2,8]\n",
    "n=list(map(int,input().split()))\n",
    "for i in range(len(original)):\n",
    "    print(f'{original[i]-n[i]}',end=' ')"
   ]
  },
  {
   "cell_type": "code",
   "execution_count": null,
   "metadata": {},
   "outputs": [],
   "source": [
    "#백준 10430번\n",
    "A,B,C=map(int,input().split())\n",
    "print((A+B)%C)\n",
    "print(((A%C) + (B%C))%C)\n",
    "print((A*B)%C)\n",
    "print(((A%C) * (B%C))%C)"
   ]
  },
  {
   "cell_type": "code",
   "execution_count": null,
   "metadata": {},
   "outputs": [],
   "source": [
    "#백준 11720\n",
    "data,ask=map(int,input().split())\n",
    "list1=list(map(int,input().split()))\n",
    "range_sum=[0]#구간합 담을 배열. 구간합의 첫번째 값은 당연하게도 0임\n",
    "temp=0\n",
    "\n",
    "for i in list1:\n",
    "    temp+=i\n",
    "    range_sum.append(temp)#range_sum에다가 구간 합 계속해서 더해서 추가함.\n",
    "\n",
    "for i in range(ask):\n",
    "    start,end=map(int,input().split()) \n",
    "    print(range_sum[end]-range_sum[start-1])#start-1해주는 이유는 \n",
    "    # 구간합 배열의 첫번째 값이 0이기에 인덱스 맞추려면 -1 필요함"
   ]
  }
 ],
 "metadata": {
  "kernelspec": {
   "display_name": "Python 3",
   "language": "python",
   "name": "python3"
  },
  "language_info": {
   "codemirror_mode": {
    "name": "ipython",
    "version": 3
   },
   "file_extension": ".py",
   "mimetype": "text/x-python",
   "name": "python",
   "nbconvert_exporter": "python",
   "pygments_lexer": "ipython3",
   "version": "3.11.1"
  },
  "orig_nbformat": 4,
  "vscode": {
   "interpreter": {
    "hash": "5801587a06112e6250870f7b732ec27b04ad3aa34afbae47b4a821f67eef7a1b"
   }
  }
 },
 "nbformat": 4,
 "nbformat_minor": 2
}
