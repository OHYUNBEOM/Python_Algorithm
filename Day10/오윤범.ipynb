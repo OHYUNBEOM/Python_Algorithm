{
 "cells": [
  {
   "attachments": {},
   "cell_type": "markdown",
   "metadata": {},
   "source": [
    "## 1번 문제\n",
    "\n",
    "프로그래머스 Lev1. 카드 뭉치 "
   ]
  },
  {
   "cell_type": "code",
   "execution_count": 19,
   "metadata": {},
   "outputs": [
    {
     "name": "stdout",
     "output_type": "stream",
     "text": [
      "Yes\n",
      "No\n"
     ]
    }
   ],
   "source": [
    "def solution(cards1, cards2, goal): \n",
    "    for i in goal: # i = 'i'/'want'/'to'/'drink'/'water' \n",
    "        if len(cards1)>0 and i==cards1[0]: # i want to drink water을 cards1,cards2을 연속시켜 조합해서 만들수있는지 확인해야하기에 cards1과cards2의 첫번째 원소랑 계속 같아야 연속해서 만들수있는거임\n",
    "            cards1.pop(0)#cards1.pop(0)으로 제일 앞에있는 원소를 계속 뽑아옴 \n",
    "        elif len(cards2)>0 and i==cards2[0]: # len(cards)>0 없이 구현했는데 index 오류나면서 터짐 pop으로 다 뽑아서 cards2=[] 가 되었는데 if문 만족안해서 elif로 들어오고 i==cards2[0]으로 비교하려고 하니까 터짐\n",
    "            cards2.pop(0)\n",
    "        else:\n",
    "            return 'No'\n",
    "    return 'Yes'\n",
    "\n",
    "cards1 = [\"i\", \"drink\", \"water\"] \n",
    "cards2 = [\"want\", \"to\"] \n",
    "goal = [\"i\", \"want\", \"to\", \"drink\", \"water\"]\n",
    "\n",
    "print(solution(cards1, cards2, goal)) \n",
    "\n",
    "cards1 = [\"i\", \"water\", \"drink\"]\n",
    "cards2 = [\"want\", \"to\"]\n",
    "goal = [\"i\", \"want\", \"to\", \"drink\", \"water\"]\n",
    "\n",
    "print(solution(cards1, cards2, goal)) "
   ]
  },
  {
   "attachments": {},
   "cell_type": "markdown",
   "metadata": {},
   "source": [
    "## 2번 문제\n",
    "\n",
    "프로그래머스 Lev1. 체육복"
   ]
  },
  {
   "cell_type": "code",
   "execution_count": 25,
   "metadata": {},
   "outputs": [
    {
     "name": "stdout",
     "output_type": "stream",
     "text": [
      "5\n",
      "4\n",
      "2\n"
     ]
    }
   ],
   "source": [
    "def solution2(n, lost, reserve):#(전체학생수,도난당한애들,빌려줄수있는애들)\n",
    "    #마지막 조건 안읽어서 계속 코드 오류났음 --> 여벌이 있는애도 도둑맞을수 있어서 다음과 같이 집합처리\n",
    "    reserve_set=set(reserve)-set(lost)\n",
    "    lost_set=set(lost)-set(reserve)\n",
    "    for i in reserve_set: #빌려줄 수 있는애들중에 \n",
    "        front=i-1 #앞에있는애 ex.빌려줄 수 있는애가 3번이면 2번 \n",
    "        back=i+1 #뒤에있는애 ex. 빌려줄 수 있는애가 3번이면 4번\n",
    "        if front in lost_set: # ex. lost 애들중에 2번 즉 잃어버린애들중에 2번이 있으면\n",
    "            lost_set.remove(front) # 3번애가 빌려줄수있는거니까 잃어버린 애들 목록에서 삭제해주고\n",
    "        elif back in lost_set: # ex. lost 애들중에 4번 즉 잃어버린 애들중에 4번이 있으면\n",
    "            lost_set.remove(back) # 3번애가 빌려줄 수 있으니까 목록에서 삭제해주고\n",
    "    return n-len(lost_set) # 전체 길이에서 여분 있는애들이 다 빌려줬는데도 못받아서 없는애들만 빼주면 됨 \n",
    "\n",
    "\n",
    "\n",
    "n = 5\n",
    "lost = [2, 4]\n",
    "reserve = [1,3,5]\n",
    "\n",
    "print(solution2(n, lost, reserve)) # return 5\n",
    "\n",
    "\n",
    "n = 5\n",
    "lost = [2, 4]\n",
    "reserve = [3]\n",
    "\n",
    "print(solution2(n, lost, reserve)) # return 4\n",
    "\n",
    "\n",
    "n = 3\n",
    "lost = [3]\n",
    "reserve = [1]\n",
    "\n",
    "print(solution2(n, lost, reserve)) # return 2"
   ]
  }
 ],
 "metadata": {
  "kernelspec": {
   "display_name": "Python 3",
   "language": "python",
   "name": "python3"
  },
  "language_info": {
   "codemirror_mode": {
    "name": "ipython",
    "version": 3
   },
   "file_extension": ".py",
   "mimetype": "text/x-python",
   "name": "python",
   "nbconvert_exporter": "python",
   "pygments_lexer": "ipython3",
   "version": "3.11.1"
  },
  "orig_nbformat": 4,
  "vscode": {
   "interpreter": {
    "hash": "5801587a06112e6250870f7b732ec27b04ad3aa34afbae47b4a821f67eef7a1b"
   }
  }
 },
 "nbformat": 4,
 "nbformat_minor": 2
}
