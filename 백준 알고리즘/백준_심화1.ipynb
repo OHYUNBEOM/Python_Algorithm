{
 "cells": [
  {
   "cell_type": "code",
   "execution_count": null,
   "metadata": {},
   "outputs": [],
   "source": [
    "#백준 3003번 킹,퀸,룩,비숍,나이트,폰\n",
    "original=[1,1,2,2,2,8]\n",
    "n=list(map(int,input().split()))\n",
    "for i in range(len(original)):\n",
    "    print(f'{original[i]-n[i]}',end=' ')"
   ]
  },
  {
   "cell_type": "code",
   "execution_count": null,
   "metadata": {},
   "outputs": [],
   "source": [
    "#백준 2444번 별찍기\n",
    "n=int(input()) # 5\n",
    "for i in range(1,n): # i:1,2,3,4\n",
    "    print(' '*(n-i)+'*'*(2*i-1)) #i:1/공백4개+별1개 \n",
    "for i in range(n,0,-1): # i는 5부터 시작해서 1까지 \n",
    "    print(' '*(n-i)+'*'*(2*i-1)) #i:5/공백0개+별9개"
   ]
  },
  {
   "cell_type": "code",
   "execution_count": null,
   "metadata": {},
   "outputs": [],
   "source": [
    "#백준 10812번 바구니 순서 바꾸기\n",
    "n,m=map(int,input().split()) #5 4\n",
    "emp=[i+1 for i in range(n)] #emp=[1,2,3,4,5]\n",
    "for _ in range(m):\n",
    "    i,j,k = map(int,input().split())\n",
    "    emp[i-1:j] = emp[k-1:j]+emp[i-1:k-1]\n",
    "    #emp[i:j] --> i+1부터 j까지 다룸. 즉 1:5 면 2부터 5까지임\n",
    "\n",
    "print(*emp)"
   ]
  },
  {
   "cell_type": "code",
   "execution_count": null,
   "metadata": {},
   "outputs": [],
   "source": [
    "#백준 10988번 팰린드롬인지 확인하기\n",
    "\n",
    "mystr=str(input())\n",
    "mylist=list(mystr)\n",
    "\n",
    "if mylist==mylist[::-1]:\n",
    "    print('1')\n",
    "else:\n",
    "    print('0')"
   ]
  },
  {
   "cell_type": "code",
   "execution_count": 87,
   "metadata": {},
   "outputs": [
    {
     "name": "stdout",
     "output_type": "stream",
     "text": [
      "10\n"
     ]
    }
   ],
   "source": [
    "#백준 2941번 크로아티아 알파벳\n",
    "croatia=['c=','c-','dz=','d-','lj','nj','s=','z=']\n",
    "alpha=list(str('abcdefghijklmnopqrstuvwxyz'))\n",
    "\n",
    "mystr=str(input())\n",
    "\n",
    "cnt=0\n",
    "\n",
    "for i in range(len(croatia)):\n",
    "    if croatia[i] in mystr:\n",
    "        cnt+=1\n",
    "        mystr.replace(croatia[i],'')\n",
    "\n",
    "for i in range(len(alpha)):\n",
    "    if alpha[i] in mystr:\n",
    "        cnt+=1\n",
    "\n",
    "print(cnt)\n",
    "#크로아티아 알파벳 찾으면 내가 입력한 문자열에서 그 찾은걸 삭제를 먼저 해주고\n",
    "#기본 알파벳은 다시한번 for문을 돌면서 찾아서 누적해서 더하는식으로 풀어보려고 했는데 못풀었음\n",
    "# .replace 잘 되는지 찍어보면서 고쳐볼것"
   ]
  }
 ],
 "metadata": {
  "kernelspec": {
   "display_name": "Python 3",
   "language": "python",
   "name": "python3"
  },
  "language_info": {
   "codemirror_mode": {
    "name": "ipython",
    "version": 3
   },
   "file_extension": ".py",
   "mimetype": "text/x-python",
   "name": "python",
   "nbconvert_exporter": "python",
   "pygments_lexer": "ipython3",
   "version": "3.11.1"
  },
  "orig_nbformat": 4,
  "vscode": {
   "interpreter": {
    "hash": "5801587a06112e6250870f7b732ec27b04ad3aa34afbae47b4a821f67eef7a1b"
   }
  }
 },
 "nbformat": 4,
 "nbformat_minor": 2
}
