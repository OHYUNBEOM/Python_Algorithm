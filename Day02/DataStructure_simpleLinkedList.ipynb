{
 "cells": [
  {
   "attachments": {},
   "cell_type": "markdown",
   "metadata": {},
   "source": [
    "## 단순연결리스트\n",
    "### 노드생성\n",
    "#### 첫번째 노드 생성"
   ]
  },
  {
   "cell_type": "code",
   "execution_count": 1,
   "metadata": {},
   "outputs": [
    {
     "name": "stdout",
     "output_type": "stream",
     "text": [
      "다현 "
     ]
    }
   ],
   "source": [
    "class Node():\n",
    "    def __init__(self) :\n",
    "        self.data=None\n",
    "        self.link=None\n",
    "\n",
    "node1=Node()\n",
    "node1.data=\"다현\"\n",
    "print(node1.data,end=' ')"
   ]
  },
  {
   "attachments": {},
   "cell_type": "markdown",
   "metadata": {},
   "source": [
    "#### 두번째 노드 생성\n"
   ]
  },
  {
   "cell_type": "code",
   "execution_count": 2,
   "metadata": {},
   "outputs": [],
   "source": [
    "node2=Node()\n",
    "node2.data='정연'\n",
    "node1.link=node2 # 1번 노드 링크에 2번 노드 연결"
   ]
  },
  {
   "attachments": {},
   "cell_type": "markdown",
   "metadata": {},
   "source": [
    "#### 데이터가 5개인 단순 연결 리스트 생성"
   ]
  },
  {
   "cell_type": "code",
   "execution_count": 3,
   "metadata": {},
   "outputs": [
    {
     "name": "stdout",
     "output_type": "stream",
     "text": [
      "다현 정연 쯔위 사나 지효 "
     ]
    }
   ],
   "source": [
    "node3=Node()\n",
    "node3.data='쯔위'\n",
    "node2.link=node3\n",
    "\n",
    "node4=Node()\n",
    "node4.data='사나'\n",
    "node3.link=node4\n",
    "\n",
    "node5=Node()\n",
    "node5.data='지효'\n",
    "node4.link=node5\n",
    "\n",
    "print(node1.data, end= ' ')\n",
    "print(node1.link.data, end= ' ')\n",
    "print(node1.link.link.data, end= ' ')\n",
    "print(node1.link.link.link.data, end= ' ')\n",
    "print(node1.link.link.link.link.data, end= ' ')"
   ]
  },
  {
   "attachments": {},
   "cell_type": "markdown",
   "metadata": {},
   "source": [
    "#### 연결리스트 출력 로직"
   ]
  },
  {
   "cell_type": "code",
   "execution_count": 8,
   "metadata": {},
   "outputs": [
    {
     "name": "stdout",
     "output_type": "stream",
     "text": [
      "다현->정연->사나->지효\n"
     ]
    }
   ],
   "source": [
    "current=node1\n",
    "print(current.data,end='->')\n",
    "while current.link != None:\n",
    "    current=current.link\n",
    "    if current.link == None:\n",
    "        print(current.data)\n",
    "    else:\n",
    "        print(current.data,end='->')"
   ]
  },
  {
   "attachments": {},
   "cell_type": "markdown",
   "metadata": {},
   "source": [
    "#### 중간에 노드 삽입"
   ]
  },
  {
   "cell_type": "code",
   "execution_count": 5,
   "metadata": {},
   "outputs": [],
   "source": [
    "newNode=Node()\n",
    "newNode.data='재남'\n",
    "newNode.link=node2.link #node3의 위치값을 newNode.link로 준겨\n",
    "node2.link=newNode"
   ]
  },
  {
   "attachments": {},
   "cell_type": "markdown",
   "metadata": {},
   "source": [
    "#### 중간 데이터 삭제"
   ]
  },
  {
   "cell_type": "code",
   "execution_count": 7,
   "metadata": {},
   "outputs": [],
   "source": [
    "node2.link=node3.link\n",
    "del(node3)"
   ]
  },
  {
   "attachments": {},
   "cell_type": "markdown",
   "metadata": {},
   "source": [
    "### 전역변수를 이용한 연결 리스트 "
   ]
  },
  {
   "cell_type": "code",
   "execution_count": 9,
   "metadata": {},
   "outputs": [
    {
     "name": "stdout",
     "output_type": "stream",
     "text": [
      "다현 정연 쯔위 사나 지효 \n"
     ]
    }
   ],
   "source": [
    "class Node():\n",
    "    def __init__(self):\n",
    "        self.data=None\n",
    "        self.link=None\n",
    "\n",
    "def printNodes(start):\n",
    "    current=start\n",
    "    if current==None:\n",
    "        return\n",
    "    print(current.data,end=' ')\n",
    "    while current.link!=None:\n",
    "        current=current.link\n",
    "        print(current.data,end=' ')\n",
    "    print()\n",
    "\n",
    "memory=[]\n",
    "head,current,pre=None,None,None\n",
    "dataArray=['다현','정연','쯔위','사나','지효']\n",
    "\n",
    "if __name__==\"__main__\":\n",
    "    node=Node()\n",
    "    node.data=dataArray[0] #다현\n",
    "    head=node \n",
    "    memory.append(node) #memory에다가 node 추가\n",
    "\n",
    "    for data in dataArray[1:]: # 두번째 노드 이후부터 끝까지 가면서\n",
    "        pre=node\n",
    "        node=Node()\n",
    "        node.data=data\n",
    "        pre.link=node\n",
    "        memory.append(node)\n",
    "        \n",
    "    printNodes(head)"
   ]
  },
  {
   "cell_type": "markdown",
   "metadata": {},
   "source": [
    "#### 함수를 통한 노드 삽입"
   ]
  },
  {
   "cell_type": "code",
   "execution_count": 14,
   "metadata": {},
   "outputs": [
    {
     "name": "stdout",
     "output_type": "stream",
     "text": [
      "다현 정연 쯔위 사나 지효 \n",
      "화사 다현 정연 쯔위 사나 지효 \n",
      "화사 다현 정연 쯔위 솔라 사나 지효 \n",
      "화사 다현 정연 쯔위 솔라 사나 지효 문별 \n",
      "화사 정연 쯔위 솔라 사나 지효 문별 \n",
      "화사 정연 솔라 사나 지효 문별 \n",
      "화사 정연 솔라 사나 문별 \n",
      "화사 정연 솔라 사나 문별 \n"
     ]
    }
   ],
   "source": [
    "class Node():\n",
    "    def __init__(self):\n",
    "        self.data=None\n",
    "        self.link=None\n",
    "\n",
    "def printNodes(start):\n",
    "    current=start\n",
    "    if current==None:\n",
    "        return\n",
    "    print(current.data,end=' ')\n",
    "    while current.link!=None:\n",
    "        current=current.link\n",
    "        print(current.data,end=' ')\n",
    "    print()\n",
    "\n",
    "def insertNode(findData,insertData):\n",
    "    global memory,head,current,pre\n",
    "    \n",
    "    if head.data==findData:\n",
    "        node=Node()\n",
    "        node.data=insertData\n",
    "        node.link=head\n",
    "        head=node\n",
    "        return\n",
    "\n",
    "    current = head\n",
    "    while current.link!=None:\n",
    "        pre=current\n",
    "        current=current.link\n",
    "        if current.data==findData:\n",
    "            node=Node()\n",
    "            node.data=insertData\n",
    "            node.link=current\n",
    "            pre.link=node\n",
    "            return\n",
    "\n",
    "    node = Node()\n",
    "    node.data=insertData\n",
    "    current.link=node\n",
    "\n",
    "#전역변수 선언\n",
    "memory=[]\n",
    "head,current,pre=None,None,None\n",
    "dataArray=['다현','정연','쯔위','사나','지효']\n",
    "\n",
    "def deleteNode(deleteData):\n",
    "    global memory,head,current,pre\n",
    "    if head.data==deleteData:\n",
    "        current=head\n",
    "        head=head.link\n",
    "        del(current)\n",
    "        return\n",
    "    current=head\n",
    "    while current.link!=None:\n",
    "        pre=current\n",
    "        current=current.link\n",
    "        if current.data==deleteData:\n",
    "            pre.link=current.link\n",
    "            del(current)\n",
    "            return\n",
    "            \n",
    "if __name__=='__main__':\n",
    "    node=Node()\n",
    "    node.data=dataArray[0] #다현\n",
    "    head=node \n",
    "    memory.append(node) #memory에다가 node 추가\n",
    "\n",
    "    for data in dataArray[1:]: # 두번째 노드 이후부터 끝까지 가면서\n",
    "        pre=node\n",
    "        node=Node()\n",
    "        node.data=data\n",
    "        pre.link=node\n",
    "        memory.append(node)\n",
    "        \n",
    "    printNodes(head) \n",
    "\n",
    "    insertNode('다현','화사') #다현 찾아서 화사 삽입 -> '다현','화사'로 들어감\n",
    "    printNodes(head)\n",
    "    insertNode('사나','솔라')\n",
    "    printNodes(head)\n",
    "    insertNode('재남','문별')\n",
    "    printNodes(head)\n",
    "\n",
    "    deleteNode('다현')\n",
    "    printNodes(head)\n",
    "    \n",
    "    deleteNode('쯔위')\n",
    "    printNodes(head)\n",
    "\n",
    "    deleteNode('지효')\n",
    "    printNodes(head)\n",
    "\n",
    "    deleteNode('재남')\n",
    "    printNodes(head)"
   ]
  }
 ],
 "metadata": {
  "kernelspec": {
   "display_name": "Python 3",
   "language": "python",
   "name": "python3"
  },
  "language_info": {
   "codemirror_mode": {
    "name": "ipython",
    "version": 3
   },
   "file_extension": ".py",
   "mimetype": "text/x-python",
   "name": "python",
   "nbconvert_exporter": "python",
   "pygments_lexer": "ipython3",
   "version": "3.11.1"
  },
  "orig_nbformat": 4,
  "vscode": {
   "interpreter": {
    "hash": "5801587a06112e6250870f7b732ec27b04ad3aa34afbae47b4a821f67eef7a1b"
   }
  }
 },
 "nbformat": 4,
 "nbformat_minor": 2
}
