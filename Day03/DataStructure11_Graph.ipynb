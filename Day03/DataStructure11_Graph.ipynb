{
 "cells": [
  {
   "cell_type": "code",
   "execution_count": 2,
   "metadata": {},
   "outputs": [],
   "source": [
    "class Graph:\n",
    "    def __init__(self,size):\n",
    "        self.SIZE=size\n",
    "        self.graph=[[0 for _ in range(size)] for i in range(size)]#2차원배열"
   ]
  },
  {
   "cell_type": "code",
   "execution_count": null,
   "metadata": {},
   "outputs": [],
   "source": [
    "G1=Graph(4)#4x4 짜리 \n",
    "#(A,?)\n",
    "G1.graph[0][1]=1\n",
    "G1.graph[0][2]=1\n",
    "G1.graph[0][3]=1\n",
    "#(B,?)\n",
    "G1.graph[1][0]=1\n",
    "G1.graph[1][2]=1\n",
    "#(C,?)\n",
    "G1.graph[2][0]=1\n",
    "G1.graph[2][1]=1\n",
    "G1.graph[2][3]=1\n",
    "#(D,?)\n",
    "G1.graph[3][0]=1\n",
    "G1.graph[3][2]=1\n",
    "\n",
    "print('무방향 그래프')\n",
    "for item in G1.graph:\n",
    "    print(item)"
   ]
  },
  {
   "cell_type": "code",
   "execution_count": 4,
   "metadata": {},
   "outputs": [
    {
     "name": "stdout",
     "output_type": "stream",
     "text": [
      "방향 그래프\n",
      "[0, 1, 1, 0]\n",
      "[0, 0, 0, 0]\n",
      "[0, 0, 0, 0]\n",
      "[1, 0, 1, 0]\n"
     ]
    }
   ],
   "source": [
    "#방향 그래프\n",
    "G3=Graph(4)\n",
    "G3.graph[0][1]=1 #A->B\n",
    "G3.graph[0][2]=1 #A->C\n",
    "\n",
    "G3.graph[3][0]=1\n",
    "G3.graph[3][2]=1\n",
    "\n",
    "print('방향 그래프')\n",
    "for item in G3.graph:\n",
    "    print(item)\n"
   ]
  }
 ],
 "metadata": {
  "kernelspec": {
   "display_name": "Python 3",
   "language": "python",
   "name": "python3"
  },
  "language_info": {
   "codemirror_mode": {
    "name": "ipython",
    "version": 3
   },
   "file_extension": ".py",
   "mimetype": "text/x-python",
   "name": "python",
   "nbconvert_exporter": "python",
   "pygments_lexer": "ipython3",
   "version": "3.11.1"
  },
  "orig_nbformat": 4,
  "vscode": {
   "interpreter": {
    "hash": "5801587a06112e6250870f7b732ec27b04ad3aa34afbae47b4a821f67eef7a1b"
   }
  }
 },
 "nbformat": 4,
 "nbformat_minor": 2
}
