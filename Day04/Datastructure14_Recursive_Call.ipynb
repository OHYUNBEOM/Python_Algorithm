{
 "cells": [
  {
   "attachments": {},
   "cell_type": "markdown",
   "metadata": {},
   "source": [
    "### 재귀호출(Recursive Call)"
   ]
  },
  {
   "cell_type": "code",
   "execution_count": 19,
   "metadata": {},
   "outputs": [],
   "source": [
    "count = 3\n",
    "\n",
    "def openBox():\n",
    "    global count\n",
    "    print('종이박스를 엽니다')\n",
    "    count -=1\n",
    "    if count ==0 : #count가 0 될때까지 종이박스를 엽니다 찍으니까 10번 찍음\n",
    "        print('반지 넣고 반환') \n",
    "        return \n",
    "    openBox()#openBox() 다시 호출 \n",
    "    print('종이박스를 닫습니다')\n",
    "    #열고 count 줄이니까 마지막 닫습니다는 여는거-1번 출력되는게 맞는듯"
   ]
  },
  {
   "cell_type": "code",
   "execution_count": 20,
   "metadata": {},
   "outputs": [
    {
     "name": "stdout",
     "output_type": "stream",
     "text": [
      "종이박스를 엽니다\n",
      "종이박스를 엽니다\n",
      "종이박스를 엽니다\n",
      "반지 넣고 반환\n",
      "종이박스를 닫습니다\n",
      "종이박스를 닫습니다\n"
     ]
    }
   ],
   "source": [
    "openBox()"
   ]
  },
  {
   "attachments": {},
   "cell_type": "markdown",
   "metadata": {},
   "source": [
    "### 재귀호출 하지않고 반복문으로 계산"
   ]
  },
  {
   "cell_type": "code",
   "execution_count": 11,
   "metadata": {},
   "outputs": [
    {
     "name": "stdout",
     "output_type": "stream",
     "text": [
      "55\n"
     ]
    }
   ],
   "source": [
    "sumValue=0\n",
    "for n in range(10,0,-1):\n",
    "    sumValue+=n\n",
    "print(sumValue)"
   ]
  },
  {
   "attachments": {},
   "cell_type": "markdown",
   "metadata": {},
   "source": [
    "### 재귀호출로 덧셈"
   ]
  },
  {
   "cell_type": "code",
   "execution_count": 22,
   "metadata": {},
   "outputs": [
    {
     "name": "stdout",
     "output_type": "stream",
     "text": [
      "6\n"
     ]
    }
   ],
   "source": [
    "def addNumber(num):\n",
    "    if num<=1:\n",
    "        return 1\n",
    "    else:\n",
    "        return num+addNumber(num-1)\n",
    "print(addNumber(3))"
   ]
  },
  {
   "attachments": {},
   "cell_type": "markdown",
   "metadata": {},
   "source": [
    "### 팩토리얼 반복문"
   ]
  },
  {
   "cell_type": "code",
   "execution_count": 24,
   "metadata": {},
   "outputs": [
    {
     "name": "stdout",
     "output_type": "stream",
     "text": [
      "3628800\n"
     ]
    }
   ],
   "source": [
    "factValue=1\n",
    "for i in range(10,0,-1):\n",
    "    factValue*=i\n",
    "print(factValue)"
   ]
  },
  {
   "attachments": {},
   "cell_type": "markdown",
   "metadata": {},
   "source": [
    "### 팩토리얼 재귀호출"
   ]
  },
  {
   "cell_type": "code",
   "execution_count": 26,
   "metadata": {},
   "outputs": [
    {
     "data": {
      "text/plain": [
       "3628800"
      ]
     },
     "execution_count": 26,
     "metadata": {},
     "output_type": "execute_result"
    }
   ],
   "source": [
    "def factorial(num):\n",
    "    if num<=1:\n",
    "        return 1\n",
    "    return num*factorial(num-1)\n",
    "factorial(10)"
   ]
  },
  {
   "attachments": {},
   "cell_type": "markdown",
   "metadata": {},
   "source": [
    "### 발사 카운트다운"
   ]
  },
  {
   "cell_type": "code",
   "execution_count": 27,
   "metadata": {},
   "outputs": [
    {
     "name": "stdout",
     "output_type": "stream",
     "text": [
      "5\n",
      "4\n",
      "3\n",
      "2\n",
      "1\n",
      "발사\n"
     ]
    }
   ],
   "source": [
    "def countDown(n):\n",
    "    if n==0:\n",
    "        print('발사')\n",
    "    else:\n",
    "        print(n)\n",
    "        countDown(n-1)\n",
    "\n",
    "countDown(5)"
   ]
  },
  {
   "attachments": {},
   "cell_type": "markdown",
   "metadata": {},
   "source": [
    "### 구구단 재귀호출"
   ]
  },
  {
   "cell_type": "code",
   "execution_count": null,
   "metadata": {},
   "outputs": [],
   "source": [
    "def gugu(dan,num):\n",
    "    print(f'{dan} x {num} = {dan*num:2d}',end=' ')\n",
    "    if num<9:\n",
    "        gugu(dan,num+1)\n",
    "\n",
    "for dan in range(2,10):\n",
    "    print(f'\\n{dan}단 시작')\n",
    "    gugu(dan,1)"
   ]
  },
  {
   "attachments": {},
   "cell_type": "markdown",
   "metadata": {},
   "source": [
    "### N제곱 계산"
   ]
  },
  {
   "cell_type": "code",
   "execution_count": 9,
   "metadata": {},
   "outputs": [
    {
     "name": "stdout",
     "output_type": "stream",
     "text": [
      "2^10\n",
      "  2x2^10-1\n",
      "   2x2^9-1\n",
      "    2x2^8-1\n",
      "     2x2^7-1\n",
      "      2x2^6-1\n",
      "       2x2^5-1\n",
      "        2x2^4-1\n",
      "         2x2^3-1\n",
      "          2x2^2-1\n",
      "           2x2^1-1\n",
      "답 --> 1024\n"
     ]
    }
   ],
   "source": [
    "tab=''\n",
    "def pow(x,n):\n",
    "    global tab\n",
    "    tab+=' '\n",
    "    if n==0:\n",
    "        return 1\n",
    "    print(tab,f'{x}x{x}^{n}-{1}')\n",
    "    return x * pow(x,n-1)\n",
    "print('2^10')\n",
    "print(f'답 --> {pow(2,10)}')"
   ]
  },
  {
   "attachments": {},
   "cell_type": "markdown",
   "metadata": {},
   "source": [
    "#### 피보나치 수열"
   ]
  },
  {
   "cell_type": "code",
   "execution_count": 11,
   "metadata": {},
   "outputs": [
    {
     "name": "stdout",
     "output_type": "stream",
     "text": [
      "피보나치 수--> 0 1 1 2 3 5 8 13 21 34 "
     ]
    }
   ],
   "source": [
    "def fibo(n):\n",
    "    if n==0: return 0\n",
    "    elif n==1: return 1\n",
    "    else: return fibo(n-1)+fibo(n-2)\n",
    "\n",
    "print('피보나치 수--> 0 1',end=' ')\n",
    "for i in range(2,10):\n",
    "    print(fibo(i),end=' ')"
   ]
  },
  {
   "attachments": {},
   "cell_type": "markdown",
   "metadata": {},
   "source": [
    "#### 회문 여부"
   ]
  },
  {
   "cell_type": "code",
   "execution_count": 4,
   "metadata": {},
   "outputs": [
    {
     "name": "stdout",
     "output_type": "stream",
     "text": [
      "reaver-->X\n",
      "kayak-->O\n",
      "Borrow or rob-->O\n",
      "주유소의 소유주-->O\n",
      "야 너 이번주 주번이 너야-->O\n",
      "살금 살금-->X\n",
      "토마토-->O\n"
     ]
    }
   ],
   "source": [
    "#회문 : 뒤집어도 똑같은 단어 ex. 이효리\n",
    "def palindrome(pStr):\n",
    "    if len(pStr)<=1:\n",
    "        return True\n",
    "    if pStr[0]!=pStr[-1]:\n",
    "        return False\n",
    "    return palindrome(pStr[1:len(pStr)-1])\n",
    "\n",
    "\n",
    "strAry=['reaver','kayak','Borrow or rob','주유소의 소유주','야 너 이번주 주번이 너야','살금 살금','토마토']\n",
    "\n",
    "for testStr in strAry:\n",
    "    print(testStr,end='-->')\n",
    "    testStr=testStr.lower().replace(' ','')#영어 대문자->소문자, 공백 삭제\n",
    "    if palindrome(testStr):\n",
    "        print('O')\n",
    "    else:\n",
    "        print('X')"
   ]
  }
 ],
 "metadata": {
  "kernelspec": {
   "display_name": "Python 3",
   "language": "python",
   "name": "python3"
  },
  "language_info": {
   "codemirror_mode": {
    "name": "ipython",
    "version": 3
   },
   "file_extension": ".py",
   "mimetype": "text/x-python",
   "name": "python",
   "nbconvert_exporter": "python",
   "pygments_lexer": "ipython3",
   "version": "3.11.1"
  },
  "orig_nbformat": 4,
  "vscode": {
   "interpreter": {
    "hash": "5801587a06112e6250870f7b732ec27b04ad3aa34afbae47b4a821f67eef7a1b"
   }
  }
 },
 "nbformat": 4,
 "nbformat_minor": 2
}
