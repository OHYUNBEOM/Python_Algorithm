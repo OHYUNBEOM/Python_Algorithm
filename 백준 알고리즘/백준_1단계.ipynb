{
 "cells": [
  {
   "cell_type": "code",
   "execution_count": null,
   "metadata": {},
   "outputs": [],
   "source": [
    "#백준 3003번\n",
    "original=[1,1,2,2,2,8]\n",
    "n=list(map(int,input().split()))\n",
    "for i in range(len(original)):\n",
    "    print(f'{original[i]-n[i]}',end=' ')"
   ]
  },
  {
   "cell_type": "code",
   "execution_count": null,
   "metadata": {},
   "outputs": [],
   "source": [
    "#백준 10430번\n",
    "A,B,C=map(int,input().split())\n",
    "print((A+B)%C)\n",
    "print(((A%C) + (B%C))%C)\n",
    "print((A*B)%C)\n",
    "print(((A%C) * (B%C))%C)"
   ]
  },
  {
   "cell_type": "code",
   "execution_count": null,
   "metadata": {},
   "outputs": [],
   "source": [
    "#백준 11720\n",
    "data,ask=map(int,input().split())\n",
    "list1=list(map(int,input().split()))\n",
    "range_sum=[0]#구간합 담을 배열. 구간합의 첫번째 값은 당연하게도 0임\n",
    "temp=0\n",
    "\n",
    "for i in list1:\n",
    "    temp+=i\n",
    "    range_sum.append(temp)#range_sum에다가 구간 합 계속해서 더해서 추가함.\n",
    "\n",
    "for i in range(ask):\n",
    "    start,end=map(int,input().split()) \n",
    "    print(range_sum[end]-range_sum[start-1])#start-1해주는 이유는 \n",
    "    # 구간합 배열의 첫번째 값이 0이기에 인덱스 맞추려면 -1 필요함"
   ]
  },
  {
   "cell_type": "code",
   "execution_count": null,
   "metadata": {},
   "outputs": [],
   "source": [
    "#백준 11660\n",
    "n,m=map(int,input().split())#n=4,m-3 이면 4x4행렬/테케3개 입력한단 의미\n",
    "arr=[]\n",
    "for i in range(n):#4x4 행렬 만들기\n",
    "    a=list(map(int,input().split()))\n",
    "    arr.append(a)#ex.[[1, 2, 3, 4], [2, 3, 4, 5], [3, 4, 5, 6], [4, 5, 6, 7]] <- 테케1 4x4 배열\n",
    "dp=[[0]*(n+1) for i in range(n+1)]\n",
    "#n=4이면 dp=[[0, 0, 0, 0, 0], [0, 0, 0, 0, 0], [0, 0, 0, 0, 0], [0, 0, 0, 0, 0], [0, 0, 0, 0, 0]]\n",
    "#[[0]*5 for i in range(5)]/[0]*5 = [0,0,0,0,0,] 이게 총 5개 만들어지는데 list안에 들어감\n",
    "for i in range(1,n+1):#dp를 5x5로 선언해놓고 1행 1열은 안쓸거니까 애초에 인덱스 시작을 1부터 해주고 마지막값에도 +1 맞춰줌\n",
    "    for j in range(1,n+1):\n",
    "        dp[i][j]=dp[i][j-1]+dp[i-1][j]-dp[i-1][j-1]+arr[i-1][j-1]#2차원배열 누적합 / 마지막 arr[i-1][j-1]은 arr을 4x4 배열로 받았고 dp에서는 5x5로 했으니까 좌표 위치 맞추려면 행,열 하나씩 줄여야함\n",
    "for k in range(m):#테케 입력받기\n",
    "    x1,y1,x2,y2=map(int,input().split())\n",
    "    result=dp[x2][y2]-dp[x2][y1-1]-dp[x1-1][y2]+dp[x1-1][y1-1] # 특정 좌표에서 특정 좌표까지!!\n",
    "    print(result)"
   ]
  },
  {
   "cell_type": "code",
   "execution_count": null,
   "metadata": {},
   "outputs": [],
   "source": [
    "#백준 2588\n",
    "n1=int(input())\n",
    "n2=int(input())\n",
    "print(n1*(n2%100%10))#n1*n2 일의자리\n",
    "print(n1*(n2//10%10))#n1*n2 십의자리\n",
    "print(n1*(n2//100))#n1*n2 백의자리\n",
    "print(n1*n2)"
   ]
  },
  {
   "cell_type": "code",
   "execution_count": null,
   "metadata": {},
   "outputs": [],
   "source": [
    "#백준 10171\n",
    "print(\"\\\\    /\\\\\")\n",
    "print(\" )  ( ')\")\n",
    "print(\"(  /  )\")\n",
    "print(\" \\\\(__)|\")"
   ]
  },
  {
   "cell_type": "code",
   "execution_count": null,
   "metadata": {},
   "outputs": [],
   "source": [
    "# 백준 10172\n",
    "print(\"|\\_/|\")\n",
    "print(\"|q p|   /}\")\n",
    "print(\"( 0 )\\\"\\\"\\\"\\\\\")\n",
    "print(\"|\\\"^\\\"`    |\")\n",
    "print(\"||_/=\\\\\\__|\")"
   ]
  },
  {
   "cell_type": "code",
   "execution_count": null,
   "metadata": {},
   "outputs": [],
   "source": [
    "#백준 25083\n",
    "print(\"         ,r'\\\"7\")\n",
    "print(\"r`-_   ,'  ,/\")\n",
    "print(\" \\\\. \\\". L_r'\")\n",
    "print(\"   `~\\\\/\")\n",
    "print(\"      |\")\n",
    "print(\"      |\")"
   ]
  }
 ],
 "metadata": {
  "kernelspec": {
   "display_name": "Python 3",
   "language": "python",
   "name": "python3"
  },
  "language_info": {
   "codemirror_mode": {
    "name": "ipython",
    "version": 3
   },
   "file_extension": ".py",
   "mimetype": "text/x-python",
   "name": "python",
   "nbconvert_exporter": "python",
   "pygments_lexer": "ipython3",
   "version": "3.11.1"
  },
  "orig_nbformat": 4,
  "vscode": {
   "interpreter": {
    "hash": "5801587a06112e6250870f7b732ec27b04ad3aa34afbae47b4a821f67eef7a1b"
   }
  }
 },
 "nbformat": 4,
 "nbformat_minor": 2
}
