{
 "cells": [
  {
   "cell_type": "code",
   "execution_count": null,
   "metadata": {},
   "outputs": [],
   "source": [
    "#백준 10807번 개수 세기\n",
    "n=int(input())\n",
    "nlist=list(map(int,input().split()))\n",
    "v=int(input())\n",
    "print(nlist.count(v))"
   ]
  },
  {
   "cell_type": "code",
   "execution_count": null,
   "metadata": {},
   "outputs": [],
   "source": [
    "#백준 10817번 X보다 작은 수\n",
    "n,x=map(int,input().split())\n",
    "A = list(map(int,input().split()))\n",
    "for i in range(len(A)):\n",
    "    if A[i]<x:\n",
    "        print(f'{A[i]}',end=' ')"
   ]
  },
  {
   "cell_type": "code",
   "execution_count": null,
   "metadata": {},
   "outputs": [],
   "source": [
    "#백준 10818번 최소,최대\n",
    "n = int(input())\n",
    "m=list(map(int,input().split()))\n",
    "print(f'{min(m)} {max(m)}')"
   ]
  },
  {
   "cell_type": "code",
   "execution_count": null,
   "metadata": {},
   "outputs": [],
   "source": [
    "#백준 2562번 최댓값\n",
    "arr=[]\n",
    "index=0\n",
    "for i in range(9):\n",
    "    n=int(input())\n",
    "    arr.append(n)\n",
    "    if arr[i]==max(arr):\n",
    "        index=i+1\n",
    "print(f'{max(arr)}\\n{index}')"
   ]
  },
  {
   "cell_type": "code",
   "execution_count": null,
   "metadata": {},
   "outputs": [],
   "source": [
    "#백준 5597번 과제 안내신분..?\n"
   ]
  }
 ],
 "metadata": {
  "kernelspec": {
   "display_name": "Python 3",
   "language": "python",
   "name": "python3"
  },
  "language_info": {
   "codemirror_mode": {
    "name": "ipython",
    "version": 3
   },
   "file_extension": ".py",
   "mimetype": "text/x-python",
   "name": "python",
   "nbconvert_exporter": "python",
   "pygments_lexer": "ipython3",
   "version": "3.11.1"
  },
  "orig_nbformat": 4,
  "vscode": {
   "interpreter": {
    "hash": "5801587a06112e6250870f7b732ec27b04ad3aa34afbae47b4a821f67eef7a1b"
   }
  }
 },
 "nbformat": 4,
 "nbformat_minor": 2
}
