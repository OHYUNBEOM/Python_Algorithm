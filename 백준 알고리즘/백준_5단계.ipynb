{
 "cells": [
  {
   "cell_type": "code",
   "execution_count": null,
   "metadata": {},
   "outputs": [],
   "source": [
    "# 백준 11654번 아스키 코드\n",
    "print(ord(input()))"
   ]
  },
  {
   "cell_type": "code",
   "execution_count": null,
   "metadata": {},
   "outputs": [],
   "source": [
    "#백준 10809번 알파벳 찾기\n",
    "s=input() #baekjoon \n",
    "for i in 'abcdefghijklmnopqrstuvwxyz':\n",
    "    print(f'{s.find(i)}',end=' ') \n",
    "\n",
    "#print('baekjoon'.find('a')) # 1\n",
    "#print('baekjoon'.find('b')) # 0\n",
    "# 'baekjoon'.find('a')의 의미가 baekjoon이라는 문자열에서 a가 있으면 몇번째에 있는지 찍어주는거임\n",
    "# find('?') 가 없는 문자면 -1 찍힘 ㅇㅇ"
   ]
  }
 ],
 "metadata": {
  "kernelspec": {
   "display_name": "Python 3",
   "language": "python",
   "name": "python3"
  },
  "language_info": {
   "codemirror_mode": {
    "name": "ipython",
    "version": 3
   },
   "file_extension": ".py",
   "mimetype": "text/x-python",
   "name": "python",
   "nbconvert_exporter": "python",
   "pygments_lexer": "ipython3",
   "version": "3.11.1"
  },
  "orig_nbformat": 4,
  "vscode": {
   "interpreter": {
    "hash": "5801587a06112e6250870f7b732ec27b04ad3aa34afbae47b4a821f67eef7a1b"
   }
  }
 },
 "nbformat": 4,
 "nbformat_minor": 2
}
