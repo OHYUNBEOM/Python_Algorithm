{
 "cells": [
  {
   "attachments": {},
   "cell_type": "markdown",
   "metadata": {},
   "source": [
    "### 스택 기본"
   ]
  },
  {
   "cell_type": "code",
   "execution_count": 8,
   "metadata": {},
   "outputs": [
    {
     "name": "stdout",
     "output_type": "stream",
     "text": [
      "None\n",
      "None\n",
      "꿀물\n",
      "녹차\n",
      "커피\n",
      "----------pop----------\n",
      "pop -> 꿀물\n",
      "pop -> 녹차\n",
      "pop -> 커피\n",
      "---------stack---------\n",
      "None\n",
      "None\n",
      "None\n",
      "None\n",
      "None\n"
     ]
    }
   ],
   "source": [
    "stack = [None for _ in range(5)]\n",
    "top=-1 #초기값 바닥\n",
    "\n",
    "top+=1\n",
    "stack[top]='커피'\n",
    "\n",
    "top+=1\n",
    "stack[top]='녹차'\n",
    "\n",
    "top+=1\n",
    "stack[top]='꿀물'\n",
    "\n",
    "for i in range(len(stack)-1,-1,-1):#마지막 index ~ 초기값(-1) 을 거꾸로 \n",
    "    print(stack[i])\n",
    "print('----------pop----------')\n",
    "data=stack[top] #data에 stack에 마지막에 들어간 값 \n",
    "stack[top]=None #stack[top] 비워주고\n",
    "top-=1 #top 하나 줄여줌\n",
    "print(f'pop -> {data}')\n",
    "\n",
    "data=stack[top] #data에 stack에 마지막에 들어간 값 \n",
    "stack[top]=None #stack[top] 비워주고\n",
    "top-=1 #top 하나 줄여줌\n",
    "print(f'pop -> {data}')\n",
    "\n",
    "data=stack[top] #data에 stack에 마지막에 들어간 값 \n",
    "stack[top]=None #stack[top] 비워주고\n",
    "top-=1 #top 하나 줄여줌\n",
    "print(f'pop -> {data}')\n",
    "print('---------stack---------')\n",
    "\n",
    "for i in range(len(stack)-1,-1,-1):\n",
    "    print(stack[i])"
   ]
  }
 ],
 "metadata": {
  "kernelspec": {
   "display_name": "Python 3",
   "language": "python",
   "name": "python3"
  },
  "language_info": {
   "codemirror_mode": {
    "name": "ipython",
    "version": 3
   },
   "file_extension": ".py",
   "mimetype": "text/x-python",
   "name": "python",
   "nbconvert_exporter": "python",
   "pygments_lexer": "ipython3",
   "version": "3.11.1"
  },
  "orig_nbformat": 4,
  "vscode": {
   "interpreter": {
    "hash": "5801587a06112e6250870f7b732ec27b04ad3aa34afbae47b4a821f67eef7a1b"
   }
  }
 },
 "nbformat": 4,
 "nbformat_minor": 2
}
