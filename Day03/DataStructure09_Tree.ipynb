{
 "cells": [
  {
   "attachments": {},
   "cell_type": "markdown",
   "metadata": {},
   "source": [
    "### 트리구조"
   ]
  },
  {
   "cell_type": "code",
   "execution_count": 4,
   "metadata": {},
   "outputs": [
    {
     "name": "stdout",
     "output_type": "stream",
     "text": [
      "화사 \n",
      "솔라 문별 \n",
      "휘인 쯔위 선미 "
     ]
    }
   ],
   "source": [
    "class TreeNode: \n",
    "    def __init__ (self):\n",
    "        self.left=None\n",
    "        self.data=None\n",
    "        self.right=None\n",
    "\n",
    "node1=TreeNode()\n",
    "node1.data='화사'\n",
    "\n",
    "node2=TreeNode()\n",
    "node2.data='솔라'\n",
    "node1.left=node2\n",
    "\n",
    "node3=TreeNode()\n",
    "node3.data='문별'\n",
    "node1.right=node3\n",
    "\n",
    "node4=TreeNode()\n",
    "node4.data='휘인'\n",
    "node2.left=node4\n",
    "\n",
    "node5=TreeNode()\n",
    "node5.data='쯔위'\n",
    "node2.right=node5\n",
    "\n",
    "node6=TreeNode()\n",
    "node6.data='선미'\n",
    "node3.left=node6\n",
    "\n",
    "print(node1.data,end=' ')\n",
    "print()\n",
    "print(node1.left.data,node1.right.data,end=' ')\n",
    "print()\n",
    "print(node1.left.left.data,node1.left.right.data,node1.right.left.data,end=' ')"
   ]
  },
  {
   "attachments": {},
   "cell_type": "markdown",
   "metadata": {},
   "source": [
    "### 트리 순회\n",
    "#### 전위(preorder),중위(inorder),후위(postorder) 순회\n"
   ]
  },
  {
   "cell_type": "code",
   "execution_count": 2,
   "metadata": {},
   "outputs": [],
   "source": [
    "def preorder(node):\n",
    "    if node==None: return\n",
    "    print(node.data,end='->')\n",
    "    preorder(node.left)\n",
    "    preorder(node.right)\n",
    "    #전위탐색 : 루트->왼쪽->오른쪽. 이라서 출력,left,right"
   ]
  },
  {
   "cell_type": "code",
   "execution_count": 5,
   "metadata": {},
   "outputs": [
    {
     "name": "stdout",
     "output_type": "stream",
     "text": [
      "화사->솔라->휘인->쯔위->문별->선미->"
     ]
    }
   ],
   "source": [
    "preorder(node1)"
   ]
  },
  {
   "cell_type": "code",
   "execution_count": 12,
   "metadata": {},
   "outputs": [],
   "source": [
    "def inorder(node):\n",
    "    if node==None: return\n",
    "\n",
    "    inorder(node.left)\n",
    "    print(node.data,end='->')\n",
    "    inorder(node.right)\n",
    "    #중위탐색 : 왼쪽->루트->오른쪽. 이라서 left,출력,right"
   ]
  },
  {
   "cell_type": "code",
   "execution_count": 13,
   "metadata": {},
   "outputs": [
    {
     "name": "stdout",
     "output_type": "stream",
     "text": [
      "휘인->솔라->쯔위->화사->선미->문별->"
     ]
    }
   ],
   "source": [
    "inorder(node1)"
   ]
  },
  {
   "cell_type": "code",
   "execution_count": 10,
   "metadata": {},
   "outputs": [],
   "source": [
    "def postorder(node):\n",
    "    if node==None: return\n",
    "\n",
    "    postorder(node.left)\n",
    "    postorder(node.right)\n",
    "    print(node.data,end='->')\n",
    "    #후위탐색 : 왼쪽->오른쪽->루트. 라서 left,right,출력"
   ]
  },
  {
   "cell_type": "code",
   "execution_count": 11,
   "metadata": {},
   "outputs": [
    {
     "name": "stdout",
     "output_type": "stream",
     "text": [
      "휘인->쯔위->솔라->선미->문별->화사->"
     ]
    }
   ],
   "source": [
    "postorder(node1)"
   ]
  }
 ],
 "metadata": {
  "kernelspec": {
   "display_name": "Python 3",
   "language": "python",
   "name": "python3"
  },
  "language_info": {
   "codemirror_mode": {
    "name": "ipython",
    "version": 3
   },
   "file_extension": ".py",
   "mimetype": "text/x-python",
   "name": "python",
   "nbconvert_exporter": "python",
   "pygments_lexer": "ipython3",
   "version": "3.11.1"
  },
  "orig_nbformat": 4,
  "vscode": {
   "interpreter": {
    "hash": "5801587a06112e6250870f7b732ec27b04ad3aa34afbae47b4a821f67eef7a1b"
   }
  }
 },
 "nbformat": 4,
 "nbformat_minor": 2
}
