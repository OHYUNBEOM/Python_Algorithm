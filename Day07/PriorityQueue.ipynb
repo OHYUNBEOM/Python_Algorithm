{
 "cells": [
  {
   "attachments": {},
   "cell_type": "markdown",
   "metadata": {},
   "source": [
    "### 우선순위 큐"
   ]
  },
  {
   "cell_type": "code",
   "execution_count": 14,
   "metadata": {},
   "outputs": [
    {
     "name": "stdout",
     "output_type": "stream",
     "text": [
      "1\n",
      "10\n",
      "100\n",
      "1000\n",
      "True\n",
      "0\n"
     ]
    }
   ],
   "source": [
    "from queue import PriorityQueue\n",
    "\n",
    "myq=PriorityQueue()\n",
    "\n",
    "myq.put(10)\n",
    "myq.put(1)\n",
    "myq.put(1000)\n",
    "myq.put(100)\n",
    "\n",
    "\n",
    "print(myq.get())\n",
    "print(myq.get())\n",
    "print(myq.get())\n",
    "print(myq.get())\n",
    "\n",
    "# PriorityQueue를 사용하여 데이터를 삽입하면 자동정렬하여 저장\n",
    "\n",
    "print(myq.empty())\n",
    "print(myq.qsize())"
   ]
  },
  {
   "attachments": {},
   "cell_type": "markdown",
   "metadata": {},
   "source": [
    "### 힙큐(heap Queue)"
   ]
  },
  {
   "cell_type": "code",
   "execution_count": 20,
   "metadata": {},
   "outputs": [
    {
     "name": "stdout",
     "output_type": "stream",
     "text": [
      "[11, 33, 44, 55]\n",
      "[33, 55, 44]\n",
      "[44, 55]\n"
     ]
    }
   ],
   "source": [
    "import heapq\n",
    "\n",
    "mylist=[]\n",
    "\n",
    "heapq.heappush(mylist,33)\n",
    "heapq.heappush(mylist,11)\n",
    "heapq.heappush(mylist,44)\n",
    "heapq.heappush(mylist,55)\n",
    "\n",
    "print(mylist)\n",
    "heapq.heappop(mylist) # 자동정렬 되기에 가장 최소값을 뽑아 올 수 있음\n",
    "print(mylist)\n",
    "heapq.heappop(mylist)\n",
    "print(mylist)"
   ]
  }
 ],
 "metadata": {
  "kernelspec": {
   "display_name": "Python 3",
   "language": "python",
   "name": "python3"
  },
  "language_info": {
   "codemirror_mode": {
    "name": "ipython",
    "version": 3
   },
   "file_extension": ".py",
   "mimetype": "text/x-python",
   "name": "python",
   "nbconvert_exporter": "python",
   "pygments_lexer": "ipython3",
   "version": "3.11.1"
  },
  "orig_nbformat": 4,
  "vscode": {
   "interpreter": {
    "hash": "5801587a06112e6250870f7b732ec27b04ad3aa34afbae47b4a821f67eef7a1b"
   }
  }
 },
 "nbformat": 4,
 "nbformat_minor": 2
}
