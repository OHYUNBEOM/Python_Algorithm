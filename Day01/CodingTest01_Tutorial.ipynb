{
 "cells": [
  {
   "attachments": {},
   "cell_type": "markdown",
   "metadata": {},
   "source": [
    "## CodingTest 시 실수 네가지\n",
    "\n",
    "### 결함있는 코드"
   ]
  },
  {
   "cell_type": "code",
   "execution_count": 1,
   "metadata": {},
   "outputs": [],
   "source": [
    "# 배열의 주어진 범위 합을 2로 나눈 몫\n",
    "import random\n",
    "\n",
    "testcase=int(input())\n",
    "answer=0\n",
    "A=[0]*(100001)#리스트 10만개\n",
    "\n",
    "for i in range(0,100001):# 2. 10001에서 100001로 리스트 개수대로 변경\n",
    "    A[i]=random.randrange(1,101)#1~100 랜덤으로 채우기\n",
    "\n",
    "for t in range(1,testcase+1):\n",
    "    answer=0 # 1. 초기화 문제 해결\n",
    "    start,end=map(int,input().split())\n",
    "\n",
    "    for i in range(start,end+1):\n",
    "        answer=answer+A[i]\n",
    "    # 4. 결과값이 정수로 나오려면 / 대신 //로 변경\n",
    "    print(str(t)+\" \"+str(answer//2)) # 3. testcase->t로 변경"
   ]
  },
  {
   "attachments": {},
   "cell_type": "markdown",
   "metadata": {},
   "source": [
    "## 예외 1 \n",
    "answer 초기화 X ( answer =0 )\n",
    "## 예외 2\n",
    "배열 범위를 잘못 입력(range(0,10001)->range(0,100001))\n",
    "## 예외 3\n",
    "변수를 잘못 사용(testcase->t)\n",
    "## 예외 4\n",
    "연산자 잘못 사용 ( / --> // )"
   ]
  },
  {
   "cell_type": "code",
   "execution_count": null,
   "metadata": {},
   "outputs": [],
   "source": [
    "#백준 2750번\n",
    "n=int(input())\n",
    "m=[]\n",
    "for i in range(n):\n",
    "    m.append(int(input()))\n",
    "m.sort()\n",
    "for i in range(n):\n",
    "    print(m[i])"
   ]
  }
 ],
 "metadata": {
  "kernelspec": {
   "display_name": "Python 3",
   "language": "python",
   "name": "python3"
  },
  "language_info": {
   "codemirror_mode": {
    "name": "ipython",
    "version": 3
   },
   "file_extension": ".py",
   "mimetype": "text/x-python",
   "name": "python",
   "nbconvert_exporter": "python",
   "pygments_lexer": "ipython3",
   "version": "3.11.1"
  },
  "orig_nbformat": 4,
  "vscode": {
   "interpreter": {
    "hash": "5801587a06112e6250870f7b732ec27b04ad3aa34afbae47b4a821f67eef7a1b"
   }
  }
 },
 "nbformat": 4,
 "nbformat_minor": 2
}
