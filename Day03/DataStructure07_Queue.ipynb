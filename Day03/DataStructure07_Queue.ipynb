{
 "cells": [
  {
   "attachments": {},
   "cell_type": "markdown",
   "metadata": {},
   "source": [
    "### Queue"
   ]
  },
  {
   "cell_type": "code",
   "execution_count": 1,
   "metadata": {},
   "outputs": [],
   "source": [
    "queue = [None for _ in range(5)]\n",
    "front,rear=-1,-1"
   ]
  },
  {
   "attachments": {},
   "cell_type": "markdown",
   "metadata": {},
   "source": [
    "#### Queue 데이터 (enQueue/DeQueue)"
   ]
  },
  {
   "cell_type": "code",
   "execution_count": 2,
   "metadata": {},
   "outputs": [],
   "source": [
    "rear+=1\n",
    "queue[rear]='화사'\n",
    "rear+=1\n",
    "queue[rear]='솔라'\n",
    "rear+=1\n",
    "queue[rear]='문별'"
   ]
  },
  {
   "cell_type": "code",
   "execution_count": 3,
   "metadata": {},
   "outputs": [
    {
     "name": "stdout",
     "output_type": "stream",
     "text": [
      "----Queue----\n",
      "화사 솔라 문별 None None "
     ]
    }
   ],
   "source": [
    "print('----Queue----')\n",
    "for i in range(len(queue)):\n",
    "    print(queue[i],end=' ')"
   ]
  },
  {
   "cell_type": "code",
   "execution_count": 4,
   "metadata": {},
   "outputs": [
    {
     "name": "stdout",
     "output_type": "stream",
     "text": [
      "deQueue -> 화사\n"
     ]
    }
   ],
   "source": [
    "front+=1\n",
    "data=queue[front]\n",
    "queue[front]=None\n",
    "print(f'deQueue -> {data}')"
   ]
  },
  {
   "cell_type": "code",
   "execution_count": 5,
   "metadata": {},
   "outputs": [
    {
     "name": "stdout",
     "output_type": "stream",
     "text": [
      "----Queue----\n",
      "None 솔라 문별 None None "
     ]
    }
   ],
   "source": [
    "print('----Queue----')\n",
    "for i in range(len(queue)):\n",
    "    print(queue[i],end=' ')"
   ]
  },
  {
   "cell_type": "code",
   "execution_count": 6,
   "metadata": {},
   "outputs": [
    {
     "name": "stdout",
     "output_type": "stream",
     "text": [
      "deQueue -> 솔라\n",
      "deQueue -> 문별\n"
     ]
    }
   ],
   "source": [
    "front+=1\n",
    "data=queue[front]\n",
    "queue[front]=None\n",
    "print(f'deQueue -> {data}')\n",
    "\n",
    "front+=1\n",
    "data=queue[front]\n",
    "queue[front]=None\n",
    "print(f'deQueue -> {data}')"
   ]
  },
  {
   "cell_type": "code",
   "execution_count": 7,
   "metadata": {},
   "outputs": [
    {
     "name": "stdout",
     "output_type": "stream",
     "text": [
      "----Queue----\n",
      "None None None None None "
     ]
    }
   ],
   "source": [
    "print('----Queue----')\n",
    "for i in range(len(queue)):\n",
    "    print(queue[i],end=' ')"
   ]
  }
 ],
 "metadata": {
  "kernelspec": {
   "display_name": "Python 3",
   "language": "python",
   "name": "python3"
  },
  "language_info": {
   "codemirror_mode": {
    "name": "ipython",
    "version": 3
   },
   "file_extension": ".py",
   "mimetype": "text/x-python",
   "name": "python",
   "nbconvert_exporter": "python",
   "pygments_lexer": "ipython3",
   "version": "3.11.1"
  },
  "orig_nbformat": 4,
  "vscode": {
   "interpreter": {
    "hash": "5801587a06112e6250870f7b732ec27b04ad3aa34afbae47b4a821f67eef7a1b"
   }
  }
 },
 "nbformat": 4,
 "nbformat_minor": 2
}
