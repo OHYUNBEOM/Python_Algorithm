{
 "cells": [
  {
   "cell_type": "code",
   "execution_count": null,
   "metadata": {},
   "outputs": [],
   "source": [
    "# 백준 11654번 아스키 코드\n",
    "print(ord(input()))"
   ]
  },
  {
   "cell_type": "code",
   "execution_count": 38,
   "metadata": {},
   "outputs": [
    {
     "name": "stdout",
     "output_type": "stream",
     "text": [
      "['b', 'a', 'e', 'k', 'j', 'o', 'o', 'n']\n",
      "['a', 'b', 'c', 'd', 'e', 'f', 'g', 'h', 'i', 'j', 'k', 'l', 'm', 'n', 'o', 'p', 'q', 'r', 's', 't', 'u', 'v', 'w', 'y', 'z']\n",
      "[98, 97, 101, 107, 106, 111, 111, 110]\n",
      "0 -1 1 -1 -1 -1 4 -1 -1 -1 -1 -1 9 -1 10 -1 -1 -1 13 -1 14 14 -1 -1 -1 -1 -1 -1 -1 -1 -1 -1 -1 "
     ]
    }
   ],
   "source": [
    "#백준 10809번 알파벳 찾기\n",
    "\n",
    "# for i in range(ord('a'),ord('z')+1):\n",
    "#     print(chr(i),end=' ') # a b c d... z\n",
    "\n",
    "str1=list(input())\n",
    "str2=list('abcdefghijklmnopqrstuvwyz')\n",
    "arr=[]\n",
    "\n",
    "print(str1)\n",
    "print(str2)\n",
    "\n",
    "for j in range(len(str1)):\n",
    "    arr.append(ord(str1[j]))\n",
    "\n",
    "print(arr)\n",
    "\n",
    "for i in range(len(str2)):\n",
    "    for j in range(len(str1)):\n",
    "        if str1[j]==str2[i]:\n",
    "            print(ord(str1[j])-97,end=' ')\n",
    "    print('-1',end=' ')\n",
    "#아 몰겠다 다시풀자"
   ]
  }
 ],
 "metadata": {
  "kernelspec": {
   "display_name": "Python 3",
   "language": "python",
   "name": "python3"
  },
  "language_info": {
   "codemirror_mode": {
    "name": "ipython",
    "version": 3
   },
   "file_extension": ".py",
   "mimetype": "text/x-python",
   "name": "python",
   "nbconvert_exporter": "python",
   "pygments_lexer": "ipython3",
   "version": "3.11.1"
  },
  "orig_nbformat": 4,
  "vscode": {
   "interpreter": {
    "hash": "5801587a06112e6250870f7b732ec27b04ad3aa34afbae47b4a821f67eef7a1b"
   }
  }
 },
 "nbformat": 4,
 "nbformat_minor": 2
}
