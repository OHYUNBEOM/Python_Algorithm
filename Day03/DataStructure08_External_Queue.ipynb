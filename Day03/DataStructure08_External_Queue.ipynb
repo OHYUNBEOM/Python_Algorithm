{
 "cells": [
  {
   "cell_type": "code",
   "execution_count": 1,
   "metadata": {},
   "outputs": [
    {
     "name": "stdout",
     "output_type": "stream",
     "text": [
      "Requirement already satisfied: pythonds in c:\\dev\\language\\python311\\lib\\site-packages (1.2.1)\n"
     ]
    }
   ],
   "source": [
    "!pip install pythonds"
   ]
  },
  {
   "cell_type": "code",
   "execution_count": 2,
   "metadata": {},
   "outputs": [],
   "source": [
    "from pythonds.basic.queue import Queue"
   ]
  },
  {
   "cell_type": "code",
   "execution_count": 3,
   "metadata": {},
   "outputs": [
    {
     "name": "stdout",
     "output_type": "stream",
     "text": [
      "['__class__', '__delattr__', '__dict__', '__dir__', '__doc__', '__eq__', '__format__', '__ge__', '__getattribute__', '__getstate__', '__gt__', '__hash__', '__init__', '__init_subclass__', '__le__', '__lt__', '__module__', '__ne__', '__new__', '__reduce__', '__reduce_ex__', '__repr__', '__setattr__', '__sizeof__', '__str__', '__subclasshook__', '__weakref__', 'dequeue', 'enqueue', 'isEmpty', 'items', 'size']\n"
     ]
    }
   ],
   "source": [
    "qu=Queue()\n",
    "print(dir(qu))"
   ]
  },
  {
   "cell_type": "code",
   "execution_count": 4,
   "metadata": {},
   "outputs": [],
   "source": [
    "qu.enqueue('화사')\n",
    "qu.enqueue('문별')\n",
    "qu.enqueue('사나')\n",
    "qu.enqueue('솔라')"
   ]
  },
  {
   "cell_type": "code",
   "execution_count": 6,
   "metadata": {},
   "outputs": [
    {
     "name": "stdout",
     "output_type": "stream",
     "text": [
      "['솔라', '사나', '문별', '화사']\n"
     ]
    }
   ],
   "source": [
    "print(qu.items)"
   ]
  },
  {
   "cell_type": "code",
   "execution_count": 7,
   "metadata": {},
   "outputs": [
    {
     "name": "stdout",
     "output_type": "stream",
     "text": [
      "화사\n",
      "['솔라', '사나', '문별']\n"
     ]
    }
   ],
   "source": [
    "print(qu.dequeue())\n",
    "print(qu.items)"
   ]
  }
 ],
 "metadata": {
  "kernelspec": {
   "display_name": "Python 3",
   "language": "python",
   "name": "python3"
  },
  "language_info": {
   "codemirror_mode": {
    "name": "ipython",
    "version": 3
   },
   "file_extension": ".py",
   "mimetype": "text/x-python",
   "name": "python",
   "nbconvert_exporter": "python",
   "pygments_lexer": "ipython3",
   "version": "3.11.1"
  },
  "orig_nbformat": 4,
  "vscode": {
   "interpreter": {
    "hash": "5801587a06112e6250870f7b732ec27b04ad3aa34afbae47b4a821f67eef7a1b"
   }
  }
 },
 "nbformat": 4,
 "nbformat_minor": 2
}
