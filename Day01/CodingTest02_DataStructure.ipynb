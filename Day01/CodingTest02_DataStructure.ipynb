{
 "cells": [
  {
   "attachments": {},
   "cell_type": "markdown",
   "metadata": {},
   "source": [
    "## 자료구조\n",
    "### 백준 11720 - 숫자의 합\n"
   ]
  },
  {
   "cell_type": "code",
   "execution_count": null,
   "metadata": {},
   "outputs": [],
   "source": [
    "n=input()\n",
    "nums=list(input())\n",
    "sum=0\n",
    "\n",
    "for i in nums:\n",
    "    sum+=int(i)\n",
    "\n",
    "print(sum)"
   ]
  },
  {
   "cell_type": "code",
   "execution_count": null,
   "metadata": {},
   "outputs": [],
   "source": [
    "# del sum\n",
    "# print(sum(map(int,input())))\n",
    "n=map(int,input())\n",
    "print(n)"
   ]
  },
  {
   "attachments": {},
   "cell_type": "markdown",
   "metadata": {},
   "source": [
    "### 백준 1546 - 평균 구하기\n"
   ]
  },
  {
   "cell_type": "code",
   "execution_count": null,
   "metadata": {},
   "outputs": [],
   "source": [
    "n=input()\n",
    "mylist=list(map(int,input().split()))\n",
    "mymax=max(mylist)\n",
    "sum=sum(mylist)\n",
    "print(sum*100/mymax/int(n))"
   ]
  },
  {
   "attachments": {},
   "cell_type": "markdown",
   "metadata": {},
   "source": [
    "### 백준 11659 - 구간 합 구하기"
   ]
  },
  {
   "cell_type": "code",
   "execution_count": null,
   "metadata": {},
   "outputs": [],
   "source": [
    "data,ask=map(int,input().split())\n",
    "list1=list(map(int,input().split()))\n",
    "range_sum=[0]\n",
    "temp=0\n",
    "\n",
    "for i in list1:\n",
    "    temp+=i\n",
    "    range_sum.append(temp)\n",
    "\n",
    "for i in range(ask):\n",
    "    start,end=map(int,input().split()) \n",
    "    print(range_sum[end]-range_sum[start-1])"
   ]
  },
  {
   "cell_type": "markdown",
   "metadata": {},
   "source": [
    "### 백준 11660 - 구간 합 구하기 2"
   ]
  },
  {
   "cell_type": "code",
   "execution_count": null,
   "metadata": {},
   "outputs": [],
   "source": []
  }
 ],
 "metadata": {
  "kernelspec": {
   "display_name": "Python 3",
   "language": "python",
   "name": "python3"
  },
  "language_info": {
   "codemirror_mode": {
    "name": "ipython",
    "version": 3
   },
   "file_extension": ".py",
   "mimetype": "text/x-python",
   "name": "python",
   "nbconvert_exporter": "python",
   "pygments_lexer": "ipython3",
   "version": "3.11.1"
  },
  "orig_nbformat": 4,
  "vscode": {
   "interpreter": {
    "hash": "5801587a06112e6250870f7b732ec27b04ad3aa34afbae47b4a821f67eef7a1b"
   }
  }
 },
 "nbformat": 4,
 "nbformat_minor": 2
}
